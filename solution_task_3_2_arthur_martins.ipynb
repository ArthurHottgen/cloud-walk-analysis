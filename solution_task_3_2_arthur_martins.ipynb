{
 "cells": [
  {
   "cell_type": "markdown",
   "id": "f05bba30",
   "metadata": {},
   "source": [
    "## Primary Analysis"
   ]
  },
  {
   "cell_type": "code",
   "execution_count": 40,
   "id": "29ec550c",
   "metadata": {},
   "outputs": [],
   "source": [
    "import pandas as pd\n",
    "import matplotlib.pyplot as plt\n",
    "import matplotlib.animation as animation\n",
    "import numpy as np\n",
    "\n",
    "import plotly.express as px\n",
    "import plotly.graph_objects as go\n",
    "import matplotlib as mpl\n",
    "import seaborn as sns\n",
    "\n",
    "from sklearn.ensemble import IsolationForest\n",
    "\n",
    "import requests\n",
    "\n",
    "import warnings\n",
    "warnings.filterwarnings('ignore')"
   ]
  },
  {
   "cell_type": "code",
   "execution_count": 5,
   "id": "5bb46374",
   "metadata": {},
   "outputs": [],
   "source": [
    "# Step 1: Load the CSV files\n",
    "df1 = pd.read_csv('transactions_1.csv')\n",
    "df2 = pd.read_csv('transactions_2.csv')\n",
    "df1.rename(columns={'f0_': 'count'}, inplace=True) # Adjust the typos from tables"
   ]
  },
  {
   "cell_type": "code",
   "execution_count": 4,
   "id": "6246ab8c",
   "metadata": {},
   "outputs": [
    {
     "data": {
      "text/html": [
       "<div>\n",
       "<style scoped>\n",
       "    .dataframe tbody tr th:only-of-type {\n",
       "        vertical-align: middle;\n",
       "    }\n",
       "\n",
       "    .dataframe tbody tr th {\n",
       "        vertical-align: top;\n",
       "    }\n",
       "\n",
       "    .dataframe thead th {\n",
       "        text-align: right;\n",
       "    }\n",
       "</style>\n",
       "<table border=\"1\" class=\"dataframe\">\n",
       "  <thead>\n",
       "    <tr style=\"text-align: right;\">\n",
       "      <th>status</th>\n",
       "      <th>time</th>\n",
       "      <th>approved</th>\n",
       "      <th>backend_reversed</th>\n",
       "      <th>denied</th>\n",
       "      <th>failed</th>\n",
       "      <th>processing</th>\n",
       "      <th>refunded</th>\n",
       "      <th>reversed</th>\n",
       "    </tr>\n",
       "  </thead>\n",
       "  <tbody>\n",
       "    <tr>\n",
       "      <th>0</th>\n",
       "      <td>00h 00</td>\n",
       "      <td>18.0</td>\n",
       "      <td>2.0</td>\n",
       "      <td>9.0</td>\n",
       "      <td>0.0</td>\n",
       "      <td>12.0</td>\n",
       "      <td>1.0</td>\n",
       "      <td>7.0</td>\n",
       "    </tr>\n",
       "    <tr>\n",
       "      <th>1</th>\n",
       "      <td>00h 01</td>\n",
       "      <td>29.0</td>\n",
       "      <td>1.0</td>\n",
       "      <td>20.0</td>\n",
       "      <td>0.0</td>\n",
       "      <td>2.0</td>\n",
       "      <td>0.0</td>\n",
       "      <td>2.0</td>\n",
       "    </tr>\n",
       "    <tr>\n",
       "      <th>2</th>\n",
       "      <td>00h 02</td>\n",
       "      <td>16.0</td>\n",
       "      <td>3.0</td>\n",
       "      <td>11.0</td>\n",
       "      <td>0.0</td>\n",
       "      <td>5.0</td>\n",
       "      <td>1.0</td>\n",
       "      <td>5.0</td>\n",
       "    </tr>\n",
       "    <tr>\n",
       "      <th>3</th>\n",
       "      <td>00h 03</td>\n",
       "      <td>18.0</td>\n",
       "      <td>2.0</td>\n",
       "      <td>5.0</td>\n",
       "      <td>0.0</td>\n",
       "      <td>4.0</td>\n",
       "      <td>0.0</td>\n",
       "      <td>9.0</td>\n",
       "    </tr>\n",
       "    <tr>\n",
       "      <th>4</th>\n",
       "      <td>00h 04</td>\n",
       "      <td>23.0</td>\n",
       "      <td>3.0</td>\n",
       "      <td>4.0</td>\n",
       "      <td>0.0</td>\n",
       "      <td>2.0</td>\n",
       "      <td>0.0</td>\n",
       "      <td>10.0</td>\n",
       "    </tr>\n",
       "  </tbody>\n",
       "</table>\n",
       "</div>"
      ],
      "text/plain": [
       "status    time  approved  backend_reversed  denied  failed  processing  \\\n",
       "0       00h 00      18.0               2.0     9.0     0.0        12.0   \n",
       "1       00h 01      29.0               1.0    20.0     0.0         2.0   \n",
       "2       00h 02      16.0               3.0    11.0     0.0         5.0   \n",
       "3       00h 03      18.0               2.0     5.0     0.0         4.0   \n",
       "4       00h 04      23.0               3.0     4.0     0.0         2.0   \n",
       "\n",
       "status  refunded  reversed  \n",
       "0            1.0       7.0  \n",
       "1            0.0       2.0  \n",
       "2            1.0       5.0  \n",
       "3            0.0       9.0  \n",
       "4            0.0      10.0  "
      ]
     },
     "execution_count": 4,
     "metadata": {},
     "output_type": "execute_result"
    }
   ],
   "source": [
    "# Combine the two dataframes\n",
    "df = pd.concat([df1, df2])\n",
    "\n",
    "# Step 2: Calculate transaction statistics\n",
    "transaction_stats = df.pivot_table(index='time', columns='status', values='count', aggfunc='sum').fillna(0).reset_index()\n",
    "transaction_stats.head()"
   ]
  },
  {
   "cell_type": "code",
   "execution_count": 6,
   "id": "b4390a56",
   "metadata": {},
   "outputs": [
    {
     "data": {
      "text/html": [
       "<div>\n",
       "<style scoped>\n",
       "    .dataframe tbody tr th:only-of-type {\n",
       "        vertical-align: middle;\n",
       "    }\n",
       "\n",
       "    .dataframe tbody tr th {\n",
       "        vertical-align: top;\n",
       "    }\n",
       "\n",
       "    .dataframe thead th {\n",
       "        text-align: right;\n",
       "    }\n",
       "</style>\n",
       "<table border=\"1\" class=\"dataframe\">\n",
       "  <thead>\n",
       "    <tr style=\"text-align: right;\">\n",
       "      <th>status</th>\n",
       "      <th>time</th>\n",
       "      <th>approved</th>\n",
       "      <th>backend_reversed</th>\n",
       "      <th>denied</th>\n",
       "      <th>failed</th>\n",
       "      <th>processing</th>\n",
       "      <th>refunded</th>\n",
       "      <th>reversed</th>\n",
       "    </tr>\n",
       "  </thead>\n",
       "  <tbody>\n",
       "    <tr>\n",
       "      <th>1400</th>\n",
       "      <td>23.55</td>\n",
       "      <td>63.0</td>\n",
       "      <td>0.0</td>\n",
       "      <td>12.0</td>\n",
       "      <td>0.0</td>\n",
       "      <td>0.0</td>\n",
       "      <td>0.0</td>\n",
       "      <td>0.0</td>\n",
       "    </tr>\n",
       "    <tr>\n",
       "      <th>1401</th>\n",
       "      <td>23.56</td>\n",
       "      <td>64.0</td>\n",
       "      <td>0.0</td>\n",
       "      <td>11.0</td>\n",
       "      <td>0.0</td>\n",
       "      <td>0.0</td>\n",
       "      <td>0.0</td>\n",
       "      <td>0.0</td>\n",
       "    </tr>\n",
       "    <tr>\n",
       "      <th>1402</th>\n",
       "      <td>23.57</td>\n",
       "      <td>61.0</td>\n",
       "      <td>0.0</td>\n",
       "      <td>15.0</td>\n",
       "      <td>0.0</td>\n",
       "      <td>0.0</td>\n",
       "      <td>0.0</td>\n",
       "      <td>1.0</td>\n",
       "    </tr>\n",
       "    <tr>\n",
       "      <th>1403</th>\n",
       "      <td>23.58</td>\n",
       "      <td>46.0</td>\n",
       "      <td>4.0</td>\n",
       "      <td>7.0</td>\n",
       "      <td>0.0</td>\n",
       "      <td>3.0</td>\n",
       "      <td>1.0</td>\n",
       "      <td>2.0</td>\n",
       "    </tr>\n",
       "    <tr>\n",
       "      <th>1404</th>\n",
       "      <td>23.59</td>\n",
       "      <td>48.0</td>\n",
       "      <td>5.0</td>\n",
       "      <td>11.0</td>\n",
       "      <td>0.0</td>\n",
       "      <td>4.0</td>\n",
       "      <td>0.0</td>\n",
       "      <td>6.0</td>\n",
       "    </tr>\n",
       "  </tbody>\n",
       "</table>\n",
       "</div>"
      ],
      "text/plain": [
       "status   time  approved  backend_reversed  denied  failed  processing  \\\n",
       "1400    23.55      63.0               0.0    12.0     0.0         0.0   \n",
       "1401    23.56      64.0               0.0    11.0     0.0         0.0   \n",
       "1402    23.57      61.0               0.0    15.0     0.0         0.0   \n",
       "1403    23.58      46.0               4.0     7.0     0.0         3.0   \n",
       "1404    23.59      48.0               5.0    11.0     0.0         4.0   \n",
       "\n",
       "status  refunded  reversed  \n",
       "1400         0.0       0.0  \n",
       "1401         0.0       0.0  \n",
       "1402         0.0       1.0  \n",
       "1403         1.0       2.0  \n",
       "1404         0.0       6.0  "
      ]
     },
     "execution_count": 6,
     "metadata": {},
     "output_type": "execute_result"
    }
   ],
   "source": [
    "# convert time from string to float\n",
    "data = transaction_stats\n",
    "data['time'] = data['time'].str.replace('h', '').str.replace(' ', '').astype(float)*0.01\n",
    "data.tail()"
   ]
  },
  {
   "cell_type": "code",
   "execution_count": 11,
   "id": "281c23bc",
   "metadata": {},
   "outputs": [
    {
     "data": {
      "text/html": [
       "<div>\n",
       "<style scoped>\n",
       "    .dataframe tbody tr th:only-of-type {\n",
       "        vertical-align: middle;\n",
       "    }\n",
       "\n",
       "    .dataframe tbody tr th {\n",
       "        vertical-align: top;\n",
       "    }\n",
       "\n",
       "    .dataframe thead th {\n",
       "        text-align: right;\n",
       "    }\n",
       "</style>\n",
       "<table border=\"1\" class=\"dataframe\">\n",
       "  <thead>\n",
       "    <tr style=\"text-align: right;\">\n",
       "      <th>status</th>\n",
       "      <th>time</th>\n",
       "      <th>approved</th>\n",
       "      <th>backend_reversed</th>\n",
       "      <th>denied</th>\n",
       "      <th>failed</th>\n",
       "      <th>processing</th>\n",
       "      <th>refunded</th>\n",
       "      <th>reversed</th>\n",
       "      <th>total_resversed</th>\n",
       "    </tr>\n",
       "  </thead>\n",
       "  <tbody>\n",
       "    <tr>\n",
       "      <th>1400</th>\n",
       "      <td>23.55</td>\n",
       "      <td>63.0</td>\n",
       "      <td>0.0</td>\n",
       "      <td>12.0</td>\n",
       "      <td>0.0</td>\n",
       "      <td>0.0</td>\n",
       "      <td>0.0</td>\n",
       "      <td>0.0</td>\n",
       "      <td>0.0</td>\n",
       "    </tr>\n",
       "    <tr>\n",
       "      <th>1401</th>\n",
       "      <td>23.56</td>\n",
       "      <td>64.0</td>\n",
       "      <td>0.0</td>\n",
       "      <td>11.0</td>\n",
       "      <td>0.0</td>\n",
       "      <td>0.0</td>\n",
       "      <td>0.0</td>\n",
       "      <td>0.0</td>\n",
       "      <td>0.0</td>\n",
       "    </tr>\n",
       "    <tr>\n",
       "      <th>1402</th>\n",
       "      <td>23.57</td>\n",
       "      <td>61.0</td>\n",
       "      <td>0.0</td>\n",
       "      <td>15.0</td>\n",
       "      <td>0.0</td>\n",
       "      <td>0.0</td>\n",
       "      <td>0.0</td>\n",
       "      <td>1.0</td>\n",
       "      <td>1.0</td>\n",
       "    </tr>\n",
       "    <tr>\n",
       "      <th>1403</th>\n",
       "      <td>23.58</td>\n",
       "      <td>46.0</td>\n",
       "      <td>4.0</td>\n",
       "      <td>7.0</td>\n",
       "      <td>0.0</td>\n",
       "      <td>3.0</td>\n",
       "      <td>1.0</td>\n",
       "      <td>2.0</td>\n",
       "      <td>6.0</td>\n",
       "    </tr>\n",
       "    <tr>\n",
       "      <th>1404</th>\n",
       "      <td>23.59</td>\n",
       "      <td>48.0</td>\n",
       "      <td>5.0</td>\n",
       "      <td>11.0</td>\n",
       "      <td>0.0</td>\n",
       "      <td>4.0</td>\n",
       "      <td>0.0</td>\n",
       "      <td>6.0</td>\n",
       "      <td>11.0</td>\n",
       "    </tr>\n",
       "  </tbody>\n",
       "</table>\n",
       "</div>"
      ],
      "text/plain": [
       "status   time  approved  backend_reversed  denied  failed  processing  \\\n",
       "1400    23.55      63.0               0.0    12.0     0.0         0.0   \n",
       "1401    23.56      64.0               0.0    11.0     0.0         0.0   \n",
       "1402    23.57      61.0               0.0    15.0     0.0         0.0   \n",
       "1403    23.58      46.0               4.0     7.0     0.0         3.0   \n",
       "1404    23.59      48.0               5.0    11.0     0.0         4.0   \n",
       "\n",
       "status  refunded  reversed  total_resversed  \n",
       "1400         0.0       0.0              0.0  \n",
       "1401         0.0       0.0              0.0  \n",
       "1402         0.0       1.0              1.0  \n",
       "1403         1.0       2.0              6.0  \n",
       "1404         0.0       6.0             11.0  "
      ]
     },
     "execution_count": 11,
     "metadata": {},
     "output_type": "execute_result"
    }
   ],
   "source": [
    "data['total_resversed'] = data['backend_reversed'] + data['reversed']\n",
    "data.tail()"
   ]
  },
  {
   "cell_type": "markdown",
   "id": "0f76d7f4",
   "metadata": {},
   "source": [
    "### Finding Anomalous Valous Using Machine Learning\n"
   ]
  },
  {
   "cell_type": "markdown",
   "id": "718349cb",
   "metadata": {},
   "source": [
    "#### Transactions to analyze:\n",
    "- Failed Transactions\n",
    "- Reversed Transactions\n",
    "- Denied Transactions"
   ]
  },
  {
   "cell_type": "code",
   "execution_count": 16,
   "id": "c2a5eb96",
   "metadata": {},
   "outputs": [],
   "source": [
    "# create method to identify anomalies:\n",
    "def anomaly_identifier(data, type_of_transaction):\n",
    "    df = data[['time', type_of_transaction]] #reduce the analysis to only 1 type of transaction per time\n",
    "    model = IsolationForest(contamination=0.1, random_state=42) #consider 10% outliers\n",
    "    model.fit(df)\n",
    "    df['anomaly_scores'] = model.decision_function(df)\n",
    "    df['anomaly'] = model.predict(df[['time', type_of_transaction]])\n",
    "    \n",
    "    return df"
   ]
  },
  {
   "cell_type": "code",
   "execution_count": 17,
   "id": "6a506b50",
   "metadata": {},
   "outputs": [],
   "source": [
    "df_reversed = anomaly_identifier(data, 'total_resversed')"
   ]
  },
  {
   "cell_type": "code",
   "execution_count": 19,
   "id": "c08ca9f9",
   "metadata": {},
   "outputs": [],
   "source": [
    "df_fails = anomaly_identifier(data, 'failed')"
   ]
  },
  {
   "cell_type": "code",
   "execution_count": 20,
   "id": "2aac3215",
   "metadata": {},
   "outputs": [],
   "source": [
    "df_denied = anomaly_identifier(data, 'denied')"
   ]
  },
  {
   "cell_type": "code",
   "execution_count": 48,
   "id": "b2eac121",
   "metadata": {},
   "outputs": [
    {
     "data": {
      "text/html": [
       "<div>\n",
       "<style scoped>\n",
       "    .dataframe tbody tr th:only-of-type {\n",
       "        vertical-align: middle;\n",
       "    }\n",
       "\n",
       "    .dataframe tbody tr th {\n",
       "        vertical-align: top;\n",
       "    }\n",
       "\n",
       "    .dataframe thead th {\n",
       "        text-align: right;\n",
       "    }\n",
       "</style>\n",
       "<table border=\"1\" class=\"dataframe\">\n",
       "  <thead>\n",
       "    <tr style=\"text-align: right;\">\n",
       "      <th>status</th>\n",
       "      <th>time</th>\n",
       "      <th>denied</th>\n",
       "      <th>anomaly_scores</th>\n",
       "      <th>anomaly</th>\n",
       "    </tr>\n",
       "  </thead>\n",
       "  <tbody>\n",
       "    <tr>\n",
       "      <th>0</th>\n",
       "      <td>0.00</td>\n",
       "      <td>9.0</td>\n",
       "      <td>-0.078304</td>\n",
       "      <td>-1</td>\n",
       "    </tr>\n",
       "    <tr>\n",
       "      <th>1</th>\n",
       "      <td>0.01</td>\n",
       "      <td>20.0</td>\n",
       "      <td>-0.120887</td>\n",
       "      <td>-1</td>\n",
       "    </tr>\n",
       "    <tr>\n",
       "      <th>2</th>\n",
       "      <td>0.02</td>\n",
       "      <td>11.0</td>\n",
       "      <td>-0.082977</td>\n",
       "      <td>-1</td>\n",
       "    </tr>\n",
       "    <tr>\n",
       "      <th>3</th>\n",
       "      <td>0.03</td>\n",
       "      <td>5.0</td>\n",
       "      <td>-0.040087</td>\n",
       "      <td>-1</td>\n",
       "    </tr>\n",
       "    <tr>\n",
       "      <th>4</th>\n",
       "      <td>0.04</td>\n",
       "      <td>4.0</td>\n",
       "      <td>-0.031789</td>\n",
       "      <td>-1</td>\n",
       "    </tr>\n",
       "  </tbody>\n",
       "</table>\n",
       "</div>"
      ],
      "text/plain": [
       "status  time  denied  anomaly_scores  anomaly\n",
       "0       0.00     9.0       -0.078304       -1\n",
       "1       0.01    20.0       -0.120887       -1\n",
       "2       0.02    11.0       -0.082977       -1\n",
       "3       0.03     5.0       -0.040087       -1\n",
       "4       0.04     4.0       -0.031789       -1"
      ]
     },
     "execution_count": 48,
     "metadata": {},
     "output_type": "execute_result"
    }
   ],
   "source": [
    "df_denied.head()"
   ]
  },
  {
   "cell_type": "code",
   "execution_count": 22,
   "id": "8a02a765",
   "metadata": {},
   "outputs": [
    {
     "name": "stdout",
     "output_type": "stream",
     "text": [
      "Total of Anomalous Denied Values: 141\n"
     ]
    }
   ],
   "source": [
    "print(f'Total of Anomalous Denied Values: {len(df_denied[df_denied[\"anomaly\"] == -1])}')"
   ]
  },
  {
   "cell_type": "markdown",
   "id": "bb23a896",
   "metadata": {},
   "source": [
    "### Plotting the data:"
   ]
  },
  {
   "cell_type": "code",
   "execution_count": 23,
   "id": "ae0a2de6",
   "metadata": {},
   "outputs": [],
   "source": [
    "def anomalies_plot(data, anomaly_method_name, x_var, y_var, xaxis_limit=[0,1], yaxis_limit=[0,1]):\n",
    "    print(f'Anomaly Method: {anomaly_method_name}')\n",
    "    \n",
    "    method = f'{anomaly_method_name}_anomaly'\n",
    "    \n",
    "    print(f\"Number of anomalous values: {len(data[data['anomaly']==-1])}\")\n",
    "    print(f\"Number of non anomalous values: {len(data[data['anomaly']==1])}\")\n",
    "    print(f\"Total Number of Values: {len(data)}\")\n",
    "    \n",
    "    g = sns.FacetGrid(data, col='anomaly', height=4, hue='anomaly', hue_order=[1,-1])\n",
    "    g.map(sns.scatterplot, x_var, y_var)\n",
    "    g.fig.suptitle(f'Anomaly Method: {anomaly_method_name}', y=1.10, fontweight='bold')\n",
    "    g.set(xlim=xaxis_limit, ylim=yaxis_limit)\n",
    "    axes = g.axes.flatten()\n",
    "    axes[0].set_title(f'Anomalous Values\\n{len(data[data[\"anomaly\"] == -1])} points')\n",
    "    axes[1].set_title(f'Non Anomalous Values\\n{len(data[data[\"anomaly\"] == 1])} points')\n",
    "    return g"
   ]
  },
  {
   "cell_type": "code",
   "execution_count": 27,
   "id": "9f2238e1",
   "metadata": {},
   "outputs": [
    {
     "name": "stdout",
     "output_type": "stream",
     "text": [
      "Anomaly Method: Isolation Forest - Denied Transactions\n",
      "Number of anomalous values: 141\n",
      "Number of non anomalous values: 1264\n",
      "Total Number of Values: 1405\n"
     ]
    },
    {
     "data": {
      "text/plain": [
       "<seaborn.axisgrid.FacetGrid at 0x250e3d1b490>"
      ]
     },
     "execution_count": 27,
     "metadata": {},
     "output_type": "execute_result"
    },
    {
     "data": {
      "image/png": "[encoded data removed]",
      "text/plain": [
       "<Figure size 576x288 with 2 Axes>"
      ]
     },
     "metadata": {
      "needs_background": "light"
     },
     "output_type": "display_data"
    }
   ],
   "source": [
    "anomalies_plot(df_denied, 'Isolation Forest - Denied Transactions', 'time', 'denied', [0,24], [0,np.max(df_denied['denied'])])"
   ]
  },
  {
   "cell_type": "code",
   "execution_count": 32,
   "id": "67da3f86",
   "metadata": {
    "scrolled": false
   },
   "outputs": [
    {
     "name": "stdout",
     "output_type": "stream",
     "text": [
      "Anomaly Method: Isolation Forest - Reversed Transactions\n",
      "Number of anomalous values: 141\n",
      "Number of non anomalous values: 1264\n",
      "Total Number of Values: 1405\n"
     ]
    },
    {
     "data": {
      "text/plain": [
       "<seaborn.axisgrid.FacetGrid at 0x250e4ad0d00>"
      ]
     },
     "execution_count": 32,
     "metadata": {},
     "output_type": "execute_result"
    },
    {
     "data": {
      "image/png": "[encoded data removed]",
      "text/plain": [
       "<Figure size 576x288 with 2 Axes>"
      ]
     },
     "metadata": {
      "needs_background": "light"
     },
     "output_type": "display_data"
    }
   ],
   "source": [
    "anomalies_plot(df_reversed, 'Isolation Forest - Reversed Transactions', 'time', 'total_resversed',\\\n",
    "               [0,24], [0,np.max(df_reversed['total_resversed'])])"
   ]
  },
  {
   "cell_type": "code",
   "execution_count": 31,
   "id": "403de062",
   "metadata": {},
   "outputs": [
    {
     "name": "stdout",
     "output_type": "stream",
     "text": [
      "Anomaly Method: Isolation Forest - Failed Transactions\n",
      "Number of anomalous values: 141\n",
      "Number of non anomalous values: 1264\n",
      "Total Number of Values: 1405\n"
     ]
    },
    {
     "data": {
      "text/plain": [
       "<seaborn.axisgrid.FacetGrid at 0x250e4d62df0>"
      ]
     },
     "execution_count": 31,
     "metadata": {},
     "output_type": "execute_result"
    },
    {
     "data": {
      "image/png": "[encoded data removed]",
      "text/plain": [
       "<Figure size 576x288 with 2 Axes>"
      ]
     },
     "metadata": {
      "needs_background": "light"
     },
     "output_type": "display_data"
    }
   ],
   "source": [
    "anomalies_plot(df_fails, 'Isolation Forest - Failed Transactions', 'time', 'failed', [0,24], [0,np.max(df_fails['failed'])])"
   ]
  },
  {
   "cell_type": "markdown",
   "id": "a235f84d",
   "metadata": {},
   "source": [
    "## Implementation of Monitoring Alert System:"
   ]
  },
  {
   "cell_type": "code",
   "execution_count": null,
   "id": "541ecca1",
   "metadata": {},
   "outputs": [],
   "source": [
    "def monitoring_system():\n",
    "    # first step: receive the new data from new transactions(in this case i will assume we can access this data via API)\n",
    "    URL = '<URL-HERE>'\n",
    "    API_KEY = '<API-KEY-HERE>'\n",
    "\n",
    "    headers = {\n",
    "    'Accept': 'application/json',\n",
    "    'Authorization': 'Bearer ' + API_KEY,\n",
    "    }\n",
    "    \n",
    "    new_data = requests.get(URL, headers=headers).json()\n",
    "    # concatenate new data to database (assuming this data has a unique id to distinct them)\n",
    "    df['id'] = df.index\n",
    "    for data in new_data['data']:\n",
    "        #if we could order the response from API by most recents we could add a 'break' condition after the first data repeated\n",
    "        if data['id'] not in df['id']:\n",
    "            new_data_dict = {\n",
    "                'time': data['time'],\n",
    "                'status': data['status'],\n",
    "                'count': data['count'],\n",
    "                'id': data['id']\n",
    "            }\n",
    "            new_df = pd.DataFrame(new_data_dict, index=[0])\n",
    "    df = pd.concat([df, new_df])\n",
    "    # now we drop the past values to mantain the lenght of the dataframe\n",
    "    df3 = df.drop(df.index[:len(new_data_dict)/4])\n",
    "    transaction_stats = df3.pivot_table(index='time', columns='status', values='count', aggfunc='sum').fillna(0).reset_index()\n",
    "    # convert time from string to float\n",
    "    data = transaction_stats\n",
    "    data['time'] = data['time'].str.replace('h', '').str.replace(' ', '').astype(float)*0.01\n",
    "    data['total_reversed'] = data['backend_reversed'] + data['reversed']\n",
    "    df_fails = anomaly_identifier(data, 'failed')\n",
    "    df_denied = anomaly_identifier(data, 'denied')\n",
    "    df_reversed = anomaly_identifier(data, 'total_reversed')\n",
    "    # plot the data\n",
    "    anomalies_plot(df_denied, 'Isolation Forest - Denied Transactions',\\\n",
    "                                 'time', 'denied', [0,24], [0,np.max(df_denied['denied'])])\n",
    "    \n",
    "    anomalies_plot(df_fails, 'Isolation Forest - Failed Transactions',\\\n",
    "                                'time', 'failed', [0,24], [0,np.max(df_fails['failed'])])\n",
    "    \n",
    "    anomalies_plot(df_reversed, 'Isolation Forest - Reversed Transactions',\\\n",
    "                                   'time', 'total_resversed',\\\n",
    "               [0,24], [0,np.max(df_reversed['total_resversed'])])\n",
    "    \n",
    "    # report the new anomalies:\n",
    "    for index, row in new_df.iterrows():\n",
    "        transaction_id = row['id']\n",
    "        if row['status'] == 'denied':\n",
    "            if df_denied.loc[df_denied['id'] == transaction_id, 'anomaly'] == -1:\n",
    "                print('Denied Transaction above normal')\n",
    "        elif row['status'] == 'failed': \n",
    "            if df_denied.loc[df_denied['id'] == transaction_id, 'anomaly'] == -1:\n",
    "                print('Failed Transaction above normal')\n",
    "        elif row['status'] == 'reversed' or 'backend_reversed':\n",
    "            if df_denied.loc[df_denied['id'] == transaction_id, 'anomaly'] == -1:\n",
    "                print('Reversed Transaction above normal')"
   ]
  }
 ],
 "metadata": {
  "kernelspec": {
   "display_name": "Python 3 (ipykernel)",
   "language": "python",
   "name": "python3"
  },
  "language_info": {
   "codemirror_mode": {
    "name": "ipython",
    "version": 3
   },
   "file_extension": ".py",
   "mimetype": "text/x-python",
   "name": "python",
   "nbconvert_exporter": "python",
   "pygments_lexer": "ipython3",
   "version": "3.9.12"
  }
 },
 "nbformat": 4,
 "nbformat_minor": 5
}
